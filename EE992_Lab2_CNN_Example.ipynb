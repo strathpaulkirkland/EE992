{
  "cells": [
    {
      "cell_type": "markdown",
      "metadata": {
        "id": "view-in-github",
        "colab_type": "text"
      },
      "source": [
        "<a href=\"https://colab.research.google.com/github/strathpaulkirkland/EE992/blob/main/EE992_Lab2_CNN_Example.ipynb\" target=\"_parent\"><img src=\"https://colab.research.google.com/assets/colab-badge.svg\" alt=\"Open In Colab\"/></a>"
      ]
    },
    {
      "cell_type": "markdown",
      "metadata": {
        "id": "LfqsixkpKaRn"
      },
      "source": [
        "## Lab 2: Classification of MNIST Dreams with Convolutional Neural Networks\n",
        "\n",
        "Next, let's build a convolutional neural network (CNN) classifier to classify images of handwritten digits in the MNIST dataset with a twist where we test our classifier on high-resolution hand-written digits from outside the dataset.\n",
        "\n",
        "The CNN is the most typical network used for image based problem due to the nature in which is related to how our visual fields process information within our brains."
      ]
    },
    {
      "cell_type": "markdown",
      "source": [
        "Once again set up the environement with the packages you want to use."
      ],
      "metadata": {
        "id": "a06I_05xrAXJ"
      }
    },
    {
      "cell_type": "code",
      "source": [
        "# Load the TensorBoard notebook extension\n",
        "%load_ext tensorboard\n",
        "\n",
        "!cat /proc/cpuinfo # gives details of CPU\n",
        "\n",
        "!nvidia-smi # gives details of GPU\n",
        "\n",
        "# !pip uninstall tensorflow  #just incase you want to change version\n",
        "# !pip install tensorflow==2.X.0\n",
        "# TensorFlow and tf.keras\n",
        "import tensorflow as tf\n",
        "from tensorflow import keras\n",
        "from tensorflow.keras.layers import Conv2D, MaxPooling2D, Dropout, Flatten, Dense\n",
        "\n",
        "# Commonly used modules\n",
        "import numpy as np\n",
        "import os, datetime\n",
        "import sys\n",
        "\n",
        "# Images, plots, display, and visualization\n",
        "import matplotlib.pyplot as plt\n",
        "import pandas as pd\n",
        "import seaborn as sns\n",
        "import cv2\n",
        "import IPython\n",
        "from six.moves import urllib\n",
        "\n",
        "print(tf.__version__)"
      ],
      "metadata": {
        "id": "nQ0JHyItq_k7"
      },
      "execution_count": null,
      "outputs": []
    },
    {
      "cell_type": "markdown",
      "metadata": {
        "id": "GKs-xOJfKaRn"
      },
      "source": [
        "The MNIST dataset containss 70,000 grayscale images of handwritten digits at a resolution of 28 by 28 pixels. The task is to take one of these images as input and predict the most likely digit contained in the image (along with a relative confidence in this prediction):\n",
        "\n",
        "<img src=\"https://i.imgur.com/ITrm9x4.png\" width=\"500px\">\n",
        "\n",
        "Now, we load the dataset. The images are 28x28 NumPy arrays, with pixel values ranging between 0 and 255. The *labels* are an array of integers, ranging from 0 to 9."
      ]
    },
    {
      "cell_type": "code",
      "execution_count": null,
      "metadata": {
        "id": "EfIlMfPxKaRo"
      },
      "outputs": [],
      "source": [
        "# import the mnist dataset from keras\n",
        "(train_images, train_labels), (test_images, test_labels) = keras.datasets.mnist.load_data()# This line imports the mnist dataset from keras, it consists of train_images, train_labels, test_images and test_labels\n",
        "\n",
        "# reshape the train images to include an additional dimension for a single channel\n",
        "train_images = train_images.reshape(train_images.shape[0], 28, 28, 1)\n",
        "# This line reshape the train images to include an additional dimension for a single channel,\n",
        "# the first parameter is the number of images, and the last parameter is the number of channels\n",
        "# the values of 28 are the size of the image 28x28\n",
        "\n",
        "# reshape the test images to include an additional dimension for a single channel\n",
        "test_images = test_images.reshape(test_images.shape[0], 28, 28, 1) # This line reshape the test images to include an additional dimension for a single channel, the first parameter is the number of images, and the last parameter is the number of channels\n",
        "\n",
        "\n",
        "# return the modified images\n",
        "print(\"Train Images shape: \",train_images.shape)\n",
        "print(\"Test Images shape: \",test_images.shape)"
      ]
    },
    {
      "cell_type": "markdown",
      "metadata": {
        "id": "Gy_kxz9IKaRo"
      },
      "source": [
        "We scale these values to a range of 0 to 1 before feeding to the neural network model. For this, we divide the values by 255. It's important that the *training set* and the *testing set* are preprocessed in the same way:"
      ]
    },
    {
      "cell_type": "code",
      "execution_count": null,
      "metadata": {
        "id": "-BswtnnpKaRo"
      },
      "outputs": [],
      "source": [
        "def preprocess_images(imgs): # should work for both a single image and multiple images\n",
        "    # check if the shape of the input image is 2D, and if so, assign it to `sample_img`\n",
        "    sample_img = imgs if len(imgs.shape) == 2 else imgs[0]\n",
        "    # assert that the shape of the image is 28x28 and single-channel (grayscale)\n",
        "    assert sample_img.shape in [(28, 28, 1), (28, 28)], sample_img.shape\n",
        "    # normalize the image by dividing each pixel by 255.0\n",
        "    return imgs / 255.0\n",
        "\n",
        "# preprocess the train images\n",
        "train_images = preprocess_images(train_images)\n",
        "\n",
        "# preprocess the test images\n",
        "test_images = preprocess_images(test_images)"
      ]
    },
    {
      "cell_type": "markdown",
      "metadata": {
        "id": "OT5oHMqyKaRo"
      },
      "source": [
        "Display the first 5 images from the *training set* and display the class name below each image. Verify that the data is in the correct format and we're ready to build and train the network."
      ]
    },
    {
      "cell_type": "code",
      "execution_count": null,
      "metadata": {
        "id": "QjrRwijrKaRp"
      },
      "outputs": [],
      "source": [
        "# create a figure with a specific size\n",
        "plt.figure(figsize=(20,4))\n",
        "# loop through the first 10 images in the train dataset\n",
        "for i in range(10):\n",
        "    # add a subplot to the figure\n",
        "    plt.subplot(1,10,i+1)\n",
        "    # remove the x-axis ticks\n",
        "    plt.xticks([])\n",
        "    # remove the y-axis ticks\n",
        "    plt.yticks([])\n",
        "    # remove grid\n",
        "    plt.grid(False)\n",
        "    # display the image\n",
        "    plt.imshow(train_images[i].reshape(28, 28), cmap=plt.cm.binary)# This line displays the image on the subplot, reshaping it to 28 by 28 pixels and using the 'binary' colormap\n",
        "    # add the label of the image to the x-axis\n",
        "    plt.xlabel(train_labels[i])"
      ]
    },
    {
      "cell_type": "markdown",
      "metadata": {
        "id": "LuSI9Xx-KaRp"
      },
      "source": [
        "### Build the model\n",
        "\n",
        "Building the neural network requires configuring the layers of the model, then compiling the model. In many cases, this can be reduced to simply stacking together layers:\n",
        "\n",
        "This script is defining a convolutional neural network model using the Keras library. The model is a sequential model where we stack layers on top of each other. The model starts with a 2D convolution layer with 32 filters of size 3x3 and relu activation as the input shape. Then it has another 2D convolution layer with 64 filters of size 3x3 and relu activation. Then it has a max pooling layer to choose the best features via pooling. Then it has a dropout layer to randomly turn neurons on and off to improve convergence. Then it flatten the data since too many dimensions, we only want a classification output. Then it has a fully connected layer with 128 neurons and relu activation, then another dropout layer to randomly turn neurons on and off to improve convergence and then the final output layer with 10 neurons and softmax activation. It also prints the summary of the model which shows the architecture of the model and number of parameters in each layer."
      ]
    },
    {
      "cell_type": "code",
      "execution_count": null,
      "metadata": {
        "id": "83knfX9iKaRp"
      },
      "outputs": [],
      "source": [
        "# create a sequential model\n",
        "model = keras.Sequential()\n",
        "\n",
        "# add a 2D convolution layer with 32 filters of size 3x3 and relu activation\n",
        "model.add(Conv2D(32, kernel_size=(3, 3), activation='relu', input_shape=(28, 28, 1)))\n",
        "# add a 2D convolution layer with 64 filters of size 3x3 and relu activation\n",
        "model.add(Conv2D(64, (3, 3), activation='relu'))\n",
        "# add a 2D pooling layer to choose the best features via pooling\n",
        "model.add(MaxPooling2D(pool_size=(2, 2)))\n",
        "# add a dropout layer to randomly turn neurons on and off to improve convergence\n",
        "# model.add(Dropout(0.25))\n",
        "# flatten the data since too many dimensions, we only want a classification output\n",
        "model.add(Flatten())\n",
        "# add a fully connected layer with 128 neurons and relu activation\n",
        "model.add(Dense(128, activation='relu'))\n",
        "# add a dropout layer to randomly turn neurons on and off to improve convergence\n",
        "# model.add(Dropout(0.5))\n",
        "# add a final output layer with 10 neurons and softmax activation\n",
        "model.add(Dense(10, activation='softmax'))\n",
        "\n",
        "# print the summary of the model\n",
        "model.summary()"
      ]
    },
    {
      "cell_type": "markdown",
      "metadata": {
        "id": "teb94IF5KaRp"
      },
      "source": [
        "Before the model is ready for training, it needs a few more settings. These are added during the model's *compile* step:\n",
        "\n",
        "* *Loss function* - measures how accurate the model is during training, we want to minimize this with the optimizer.\n",
        "* *Optimizer* - how the model is updated based on the data it sees and its loss function.\n",
        "* *Metrics* - used to monitor the training and testing steps. \"accuracy\" is the fraction of images that are correctly classified."
      ]
    },
    {
      "cell_type": "code",
      "execution_count": null,
      "metadata": {
        "id": "iYOzjN1ZKaRq"
      },
      "outputs": [],
      "source": [
        "#compile the model\n",
        "model.compile(optimizer=tf.keras.optimizers.Adam(learning_rate=0.1),\n",
        "              # set the optimizer as Adam with a learning rate of 0.1\n",
        "              loss='sparse_categorical_crossentropy',\n",
        "              # use sparse categorical crossentropy as the loss function\n",
        "              metrics=['accuracy'])\n",
        "              # track the accuracy metric during training\n"
      ]
    },
    {
      "cell_type": "markdown",
      "source": [
        "This script is compiling the model, in order to prepare the model for training. The compile() function takes three main arguments:\n",
        "\n",
        "\n",
        "\n",
        "1.   Optimizer : which is used to minimize the loss function during the training process. The Adam optimizer is one of the most commonly used optimizers in deep learning, it's a variation of the stochastic gradient descent (SGD) algorithm which is computationally efficient and well suited for large datasets. The learning rate is set to 0.1, it controls how much the optimizer adjusts the weights of the network with respect to the loss gradient.\n",
        "2.   Loss : which is used to measure the dissimilarity between the predicted and the actual probability distribution of the output classes, in this case sparse categorical crossentropy is used.\n",
        "3.  Metrics : which are used to monitor the training and testing steps, here accuracy is used.\n",
        "\n",
        "It is important to note that the optimizer, loss function and metrics are chosen based on the problem's nature and the model's architecture."
      ],
      "metadata": {
        "id": "v4M7yJB083IO"
      }
    },
    {
      "cell_type": "markdown",
      "metadata": {
        "id": "anSCFD4HKaRq"
      },
      "source": [
        "### Train the model\n",
        "\n",
        "Training the neural network model requires the following steps:\n",
        "\n",
        "1. Feed the training data to the model—in this example, the `train_images` and `train_labels` arrays.\n",
        "2. The model learns to associate images and labels.\n",
        "3. We ask the model to make predictions about a test set—in this example, the `test_images` array. We verify that the predictions match the labels from the `test_labels` array.\n",
        "\n",
        "To start training,  call the `model.fit` method—the model is \"fit\" to the training data:"
      ]
    },
    {
      "cell_type": "code",
      "execution_count": null,
      "metadata": {
        "id": "uVgVa8DqKaRq"
      },
      "outputs": [],
      "source": [
        "#extra code to use tensorboard if wanted\n",
        "logdir = os.path.join(\"logs\", datetime.datetime.now().strftime(\"%Y%m%d-%H%M%S\"))\n",
        "tensorboard_callback = tf.keras.callbacks.TensorBoard(logdir, histogram_freq=1)\n",
        "################################\n",
        "\n",
        "# train the model\n",
        "history = model.fit(train_images, train_labels, epochs=1, batch_size=64, callbacks=[tensorboard_callback])\n",
        "# set the number of epochs to 1 and the batch size to 64"
      ]
    },
    {
      "cell_type": "markdown",
      "source": [
        "This script is training the model on the train_images and train_labels dataset. The fit() function takes several arguments:\n",
        "\n",
        "train_images: The training dataset images.\n",
        "train_labels: The corresponding labels for the training dataset images.\n",
        "epochs: The number of times the model will cycle through the data. One epoch is when an entire dataset is passed forward and backward through the neural network only once.\n",
        "batch_size: The number of samples per gradient update. The model will update the weights after each batch.\n",
        "callbacks: A list of callbacks to apply during training. TensorBoard is used for visualizing the training progress in this case, the logdir is set to where the tensorboard logs will be stored and histogram_freq=1 so that histograms of the weights and biases are written to the log every epoch.\n",
        "It is important to note that the number of epochs and batch size are chosen based on the problem's nature and the model's architecture."
      ],
      "metadata": {
        "id": "9vm-n4tJ-bRv"
      }
    },
    {
      "cell_type": "markdown",
      "metadata": {
        "id": "XfuiItYwKaRq"
      },
      "source": [
        "As the model trains, the loss and accuracy metrics are displayed. This model reaches an accuracy of about 11% on the training data."
      ]
    },
    {
      "cell_type": "markdown",
      "source": [
        "Did this take a while to run ???\n",
        "\n",
        "If so check the Runtime - Change Runtime Type and ensure it is on GPU.\n"
      ],
      "metadata": {
        "id": "Rh2q3PUdkKUl"
      }
    },
    {
      "cell_type": "markdown",
      "metadata": {
        "id": "2rO8PYutKaRr"
      },
      "source": [
        "### Evaluate accuracy\n",
        "\n",
        "Next, compare how the model performs on the test dataset:"
      ]
    },
    {
      "cell_type": "code",
      "execution_count": null,
      "metadata": {
        "id": "6rn1Km9wKaRr"
      },
      "outputs": [],
      "source": [
        "\n",
        "#print the shape of test images\n",
        "print(test_images.shape)\n",
        "\n",
        "#evaluate the model on test data\n",
        "test_loss, test_acc = model.evaluate(test_images, test_labels)\n",
        "\n",
        "#print the test accuracy\n",
        "print('Test accuracy:', test_acc)"
      ]
    },
    {
      "cell_type": "markdown",
      "metadata": {
        "id": "Q6DUZc5-KaRs"
      },
      "source": [
        "Often times, the accuracy on the test dataset is a little less than the accuracy on the training dataset. This gap between training accuracy and test accuracy is an example of *overfitting*.\n",
        "In our case, the accuracy is bad at 11%!\n"
      ]
    },
    {
      "cell_type": "code",
      "source": [
        "%tensorboard --logdir logs"
      ],
      "metadata": {
        "id": "Xd-p3cCS15TJ"
      },
      "execution_count": null,
      "outputs": []
    },
    {
      "cell_type": "markdown",
      "source": [
        "# Improvement\n",
        "\n",
        "Again this network can be improved.\n",
        "\n",
        "Look at the values of Learning Rate, Batch Size, Epochs and the model itself (Dropout layers)\n",
        "\n",
        "# Get the Accuracy to 99% then continue\n",
        "\n",
        "\n",
        "You can run the next section if you want to see how network performs, but it is rather slow, so wait until you have an improved network.\n",
        "\n",
        "\n",
        "\n",
        "---\n",
        "\n",
        "\n",
        "\n",
        "---\n",
        "\n",
        "\n",
        "\n",
        "---\n",
        "\n"
      ],
      "metadata": {
        "id": "aWAfsUvWwzRp"
      }
    },
    {
      "cell_type": "markdown",
      "metadata": {
        "id": "u3nk8FFMKaRs"
      },
      "source": [
        "##**Make predictions**\n",
        "\n",
        "With the model trained, we can use it to make predictions about some images. Let's step outside the MNIST dataset for that and go with the beautiful high-resolution images generated by a mixture of CPPN, GAN, VAE. See [great blog post by hardmaru](http://blog.otoro.net/2016/04/01/generating-large-images-from-latent-vectors/) for the source data and a description of how these morphed animations are generated:\n",
        "\n",
        "![MNIST dream](https://i.imgur.com/OrUJs9V.gif)"
      ]
    },
    {
      "cell_type": "code",
      "execution_count": null,
      "metadata": {
        "id": "2n9OpIYJKaRs"
      },
      "outputs": [],
      "source": [
        "\n",
        "# Define the path to the sample video file\n",
        "mnist_dream_path = 'https://github.com/strathpaulkirkland/DM996/raw/master/mnist_dream.mp4'\n",
        "# Define the path to save the predicted video file\n",
        "mnist_prediction_path = 'mnist_dream_predicted.mp4'\n",
        "\n",
        "# Check if the file already exists, if not download the sample video\n",
        "if not os.path.isfile(mnist_dream_path):\n",
        "    print('downloading the sample video...')\n",
        "    vid_url = mnist_dream_path\n",
        "    # Download the video file from the url and save it to the defined path\n",
        "    mnist_dream_path = urllib.request.urlretrieve(vid_url)[0]\n",
        "\n",
        "# Define a function to display an image using IPython library\n",
        "def cv2_imshow(img):\n",
        "    # Encode the image to .png format\n",
        "    ret = cv2.imencode('.png', img)[1].tobytes()\n",
        "    # Create an IPython image object\n",
        "    img_ip = IPython.display.Image(data=ret)\n",
        "    # Display the image\n",
        "    IPython.display.display(img_ip)\n",
        "\n",
        "# Open a video capture object using the video file path\n",
        "cap = cv2.VideoCapture(mnist_dream_path)\n",
        "# Initialize the variable vw (used for debugging if needed)\n",
        "vw = None\n",
        "# Initialize the variable frame to -1 (used for debugging if needed)\n",
        "frame = -1\n",
        "\n",
        "\n",
        "######################################\n",
        "\n",
        "while True: # This line creates an infinite loop that will continue to execute the code within it until a specific condition is met (in this case, a break statement is used later in the code)\n",
        "    frame += 1 # This line increments the value of the \"frame\" variable by 1 on each iteration of the loop\n",
        "    ret, img = cap.read() # This line reads a frame from the video capture object \"cap\" and assigns the returned values to the variables \"ret\" and \"img\"\n",
        "    if not ret: break # This line checks the value of the \"ret\" variable and, if it is False, breaks out of the loop (ending the infinite loop)\n",
        "    assert img.shape[0] == img.shape[1] # This line asserts that the height and width of the image are equal (i.e. the image is a square)\n",
        "    if img.shape[0] != 720: # This line checks if the height of the image is not equal to 720\n",
        "        img = cv2.resize(img, (720, 720)) # If the height is not equal to 720, the image is resized to a height and width of 720 using the \"cv2.resize\" function\n",
        "\n",
        "#preprocess the image for prediction\n",
        "    img_proc = cv2.cvtColor(img, cv2.COLOR_BGR2GRAY) # This line converts the image from BGR color space to grayscale using the \"cv2.cvtColor\" function\n",
        "    img_proc = cv2.resize(img_proc, (28, 28)) # This line resizes the image to a width and height of 28 pixels using the \"cv2.resize\" function\n",
        "    img_proc = preprocess_images(img_proc) #This line applies preprocessing function on the image\n",
        "    img_proc = 1 - img_proc # This line inverses the image, since the training dataset is white text with black background\n",
        "    net_in = np.expand_dims(img_proc, axis=0) # This line adds an extra dimension to the image array to specify a batch size of 1 using numpy expand_dims function\n",
        "    net_in = np.expand_dims(net_in, axis=3) # This line adds an extra dimension to the image array to specify the number of channels using numpy expand_dims function\n",
        "    preds = model.predict(net_in)[0] # This line uses the trained model to make a prediction on the preprocessed image\n",
        "    guess = np.argmax(preds) # This line assigns the index of the highest predicted probability to the \"guess\" variable\n",
        "    perc = np.rint(preds * 100).astype(int) # This line rounds the predicted probabilities to the nearest integer and converts them to integers\n",
        "\n",
        "\n",
        "    img = 255 - img # this line inverts the color of the image by subtracting all pixel values from 255\n",
        "    pad_color = 0 # this line sets the padding color to be black (0)\n",
        "    img = np.pad(img, ((0,0), (0,1280-720), (0,0)), mode='constant', constant_values=(pad_color))\n",
        "    # this line pads the image with the pad_color (black) on the right side to make the image width 1280 pixels\n",
        "\n",
        "    line_type = cv2.LINE_AA # this line sets the line type for the text to be anti-aliased\n",
        "    font_face = cv2.FONT_HERSHEY_SIMPLEX # this line sets the font face to be simplex\n",
        "    font_scale = 1.3 # this line sets the font scale to be 1.3\n",
        "    thickness = 2 # this line sets the thickness of the text to be 2\n",
        "    x, y = 740, 60 # this line sets the x and y coordinates for the text to be placed at (740, 60)\n",
        "    color = (255, 255, 255) # this line sets the color of the text to be white\n",
        "\n",
        "    text = \"Neural Network Output:\" # this line sets the text to be written as \"Neural Network Output:\"\n",
        "    cv2.putText(img, text=text, org=(x, y), fontScale=font_scale, fontFace=font_face, thickness=thickness,\n",
        "                        color=color, lineType=line_type)\n",
        "    # this line writes the text \"Neural Network Output:\" on the image at the specified x and y coordinates with the specified font, font scale, thickness, color and line type.\n",
        "\n",
        "    text = \"Input:\" # this line sets the text to be written as \"Input:\"\n",
        "    cv2.putText(img, text=text, org=(30, y), fontScale=font_scale, fontFace=font_face, thickness=thickness,\n",
        "                        color=color, lineType=line_type)\n",
        "    # this line writes the text \"Input:\" on the image at the specified x, y coordinates with the specified font, font scale, thickness, color and line type.\n",
        "\n",
        "    y = 130 # this line sets the y coordinate for the next set of text and rectangles to be written at 130\n",
        "    for i, p in enumerate(perc):\n",
        "        if i == guess: color = (255, 218, 158)\n",
        "        else: color = (100, 100, 100)\n",
        "\n",
        "        rect_width = 0\n",
        "        if p > 0: rect_width = int(p * 3.3)\n",
        "\n",
        "        rect_start = 180\n",
        "        cv2.rectangle(img, (x+rect_start, y-5), (x+rect_start+rect_width, y-20), color, -1)\n",
        "        # this line draws a rectangle on the image starting at (x+rect_start, y-5) and ending at (x+rect_start+rect_width, y-20) with the specified color and filled in.\n",
        "\n",
        "        text = '{}: {:>3}%'.format(i, int(p))\n",
        "        cv2.putText(img, text=text, org=(x, y), fontScale=font_scale, fontFace=font_face, thickness=thickness,\n",
        "                        color=color, lineType=line_type)\n",
        "        # this line writes the text '{}: {:>3}%'.format(i, int(p)) on the image at the specified x, y coordinates with the specified font, font scale, thickness, color and line type.\n",
        "        y += 60\n",
        "      # this line increments the y coordinate by 60 for the next set of text and rectangles\n",
        "\n",
        "    # if you don't want to save the output as a video, set this to False\n",
        "    save_video = True\n",
        "\n",
        "    if save_video:\n",
        "        if vw is None:\n",
        "            codec = cv2.VideoWriter_fourcc(*'MP4V')\n",
        "            vid_width_height = img.shape[1], img.shape[0]\n",
        "            vw = cv2.VideoWriter('mnist_dream_predicted.mp4', codec, 30, vid_width_height)\n",
        "        # 15 fps above doesn't work robustly so we right frame twice at 30 fps\n",
        "        vw.write(img)\n",
        "        vw.write(img)\n",
        "\n",
        "    # scale down image for display\n",
        "    img_disp = cv2.resize(img, (0,0), fx=0.5, fy=0.5)\n",
        "    cv2_imshow(img_disp)\n",
        "    IPython.display.clear_output(wait=True)\n",
        "\n",
        "        #releasing all the stored information such as the frame to allow the process to move on\n",
        "cap.release()\n",
        "if vw is not None:\n",
        "    vw.release()\n",
        "\n"
      ]
    },
    {
      "cell_type": "code",
      "source": [
        "#Videos in Collab are a pain to play but this is a workaround\n",
        "\n",
        "from IPython.display import HTML\n",
        "from base64 import b64encode\n",
        "import os\n",
        "\n",
        "# Input video path\n",
        "save_path = \"/content/mnist_dream_predicted.mp4\"\n",
        "\n",
        "# Compressed video path\n",
        "compressed_path = \"/content/mnist_dream_predicted_C.mp4\"\n",
        "\n",
        "os.system(f\"ffmpeg -i {save_path} -vcodec libx264 {compressed_path}\")\n",
        "\n",
        "# Show video\n",
        "mp4 = open(compressed_path,'rb').read()\n",
        "data_url = \"data:video/mp4;base64,\" + b64encode(mp4).decode()\n",
        "HTML(\"\"\"\n",
        "<video width=400 controls>\n",
        "      <source src=\"%s\" type=\"video/mp4\">\n",
        "</video>\n",
        "\"\"\" % data_url)"
      ],
      "metadata": {
        "id": "ih6sLDTmC1w4"
      },
      "execution_count": null,
      "outputs": []
    },
    {
      "cell_type": "markdown",
      "metadata": {
        "id": "pne4UwtIKaRt"
      },
      "source": [
        "The above shows the prediction of the network by choosing the neuron with the highest output. While the output layer values add 1 to one, these do not reflect well-calibrated measures of \"uncertainty\". Often, the network is overly confident about the top choice that does not reflect a learned measure of probability. If everything ran correctly you should get an animation like this:\n",
        "\n",
        "![MNIST dream predictions](https://i.imgur.com/eMF9FOG.gif)"
      ]
    }
  ],
  "metadata": {
    "colab": {
      "provenance": [],
      "include_colab_link": true
    },
    "kernelspec": {
      "display_name": "Python 3",
      "language": "python",
      "name": "python3"
    },
    "language_info": {
      "codemirror_mode": {
        "name": "ipython",
        "version": 3
      },
      "file_extension": ".py",
      "mimetype": "text/x-python",
      "name": "python",
      "nbconvert_exporter": "python",
      "pygments_lexer": "ipython3",
      "version": "3.6.7"
    },
    "accelerator": "GPU",
    "gpuClass": "standard"
  },
  "nbformat": 4,
  "nbformat_minor": 0
}